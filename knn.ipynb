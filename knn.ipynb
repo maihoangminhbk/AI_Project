{
 "cells": [
  {
   "cell_type": "code",
   "execution_count": 2,
   "id": "43321e38",
   "metadata": {},
   "outputs": [
    {
     "ename": "ModuleNotFoundError",
     "evalue": "No module named 'dataset_loader'",
     "output_type": "error",
     "traceback": [
      "\u001b[0;31m---------------------------------------------------------------------------\u001b[0m",
      "\u001b[0;31mModuleNotFoundError\u001b[0m                       Traceback (most recent call last)",
      "\u001b[0;32m<ipython-input-2-5fc935653f7c>\u001b[0m in \u001b[0;36m<module>\u001b[0;34m\u001b[0m\n\u001b[1;32m      3\u001b[0m \u001b[0;32mfrom\u001b[0m \u001b[0msklearn\u001b[0m\u001b[0;34m.\u001b[0m\u001b[0mmodel_selection\u001b[0m \u001b[0;32mimport\u001b[0m \u001b[0mtrain_test_split\u001b[0m\u001b[0;34m\u001b[0m\u001b[0;34m\u001b[0m\u001b[0m\n\u001b[1;32m      4\u001b[0m \u001b[0;32mfrom\u001b[0m \u001b[0msklearn\u001b[0m\u001b[0;34m.\u001b[0m\u001b[0mmetrics\u001b[0m \u001b[0;32mimport\u001b[0m \u001b[0mclassification_report\u001b[0m\u001b[0;34m\u001b[0m\u001b[0;34m\u001b[0m\u001b[0m\n\u001b[0;32m----> 5\u001b[0;31m \u001b[0;32mfrom\u001b[0m \u001b[0mdataset_loader\u001b[0m \u001b[0;32mimport\u001b[0m \u001b[0mDatasetLoader\u001b[0m\u001b[0;34m\u001b[0m\u001b[0;34m\u001b[0m\u001b[0m\n\u001b[0m\u001b[1;32m      6\u001b[0m \u001b[0;32mfrom\u001b[0m \u001b[0mimutils\u001b[0m \u001b[0;32mimport\u001b[0m \u001b[0mpaths\u001b[0m\u001b[0;34m\u001b[0m\u001b[0;34m\u001b[0m\u001b[0m\n\u001b[1;32m      7\u001b[0m \u001b[0;32mimport\u001b[0m \u001b[0margparse\u001b[0m\u001b[0;34m\u001b[0m\u001b[0;34m\u001b[0m\u001b[0m\n",
      "\u001b[0;31mModuleNotFoundError\u001b[0m: No module named 'dataset_loader'"
     ]
    }
   ],
   "source": [
    "from sklearn.neighbors import KNeighborsClassifier\n",
    "from sklearn.preprocessing import LabelEncoder\n",
    "from sklearn.model_selection import train_test_split\n",
    "from sklearn.metrics import classification_report\n",
    "from dataset_loader import DatasetLoader\n",
    "from imutils import paths\n",
    "import argparse\n",
    "\n",
    "# Parse arguments\n",
    "ap = argparse.ArgumentParser()\n",
    "ap.add_argument(\"-d\", \"--dataset\", required=True, \n",
    "    help=\"path to input dataset\")\n",
    "ap.add_argument(\"-k\", \"--neighbors\", type=int, default=1,\n",
    "    help=\"# of nearest neighbors for classification\")\n",
    "ap.add_argument(\"-j\", \"--jobs\", type=int, default=-1,\n",
    "    help=\"# of CPU cores used for classification\")\n",
    "args = vars(ap.parse_args())\n",
    "\n",
    "# Load images\n",
    "print(\"[INFO] Loading images\")\n",
    "image_paths = list(paths.list_images(args[\"dataset\"]))\n",
    "sdl = DatasetLoader()\n",
    "(data, labels) = sdl.load(image_paths, verbose=500)\n",
    "data = data.reshape((data.shape[0], 32*32*3))\n",
    "\n",
    "# Show memory consumption\n",
    "print(\"[INFO] features matrix: {:.1f}MB\".format(\n",
    "    data.nbytes / (1024 * 1024.0)\n",
    "))\n",
    "\n",
    "# Encode labels as intergers\n",
    "le = LabelEncoder()\n",
    "labels = le.fit_transform(labels)\n",
    "\n",
    "# Partition the data.\n",
    "# training: 75%, testing: 25%\n",
    "(trainX, testX, trainY, testY) = train_test_split(data, labels, test_size=0.25, random_state=42)\n",
    "\n",
    "# Evaluate k-NN classifier\n",
    "print(\"[INFO] evaluating k-NN classifier\")\n",
    "model = KNeighborsClassifier(n_neighbors=args[\"neighbors\"], \n",
    "    n_jobs=args[\"jobs\"])\n",
    "model.fit(trainX, trainY)\n",
    "print(classification_report(testY, model.predict(testX), target_names=le.classes_))\n"
   ]
  },
  {
   "cell_type": "code",
   "execution_count": null,
   "id": "d574ac84",
   "metadata": {},
   "outputs": [],
   "source": []
  }
 ],
 "metadata": {
  "kernelspec": {
   "display_name": "Python 3",
   "language": "python",
   "name": "python3"
  },
  "language_info": {
   "codemirror_mode": {
    "name": "ipython",
    "version": 3
   },
   "file_extension": ".py",
   "mimetype": "text/x-python",
   "name": "python",
   "nbconvert_exporter": "python",
   "pygments_lexer": "ipython3",
   "version": "3.8.6"
  }
 },
 "nbformat": 4,
 "nbformat_minor": 5
}
